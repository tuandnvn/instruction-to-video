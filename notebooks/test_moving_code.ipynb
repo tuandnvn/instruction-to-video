{
 "cells": [
  {
   "cell_type": "code",
   "execution_count": 1,
   "metadata": {},
   "outputs": [],
   "source": [
    "import tensorflow as tf\n",
    "import numpy as np"
   ]
  },
  {
   "cell_type": "code",
   "execution_count": 23,
   "metadata": {},
   "outputs": [
    {
     "name": "stdout",
     "output_type": "stream",
     "text": [
      "[[6 5 7 8]\n",
      " [1 2 3 4]]\n"
     ]
    }
   ],
   "source": [
    "indices = tf.constant([[[0, 1], [0, 0], [0, 2], [0, 3]], \n",
    "                      [[1, 0], [1, 1], [1, 2], [1, 3]]])\n",
    "updates = tf.constant([[5, 6, 7, 8],\n",
    "                        [1, 2, 3, 4]])\n",
    "shape = tf.constant([2, 4])\n",
    "scatter1 = tf.scatter_nd(indices, updates, shape)\n",
    "with tf.Session() as sess:\n",
    "    print(sess.run(scatter1))"
   ]
  },
  {
   "cell_type": "code",
   "execution_count": 20,
   "metadata": {},
   "outputs": [
    {
     "name": "stdout",
     "output_type": "stream",
     "text": [
      "(2, 1)\n",
      "(2, 4, 4)\n",
      "(4, 4, 4)\n"
     ]
    }
   ],
   "source": [
    "t = np.array([[0], [2]], dtype=np.int32)\n",
    "indices = tf.constant(t)\n",
    "print (t.shape)\n",
    "\n",
    "t = np.array([[[5, 5, 5, 5], [6, 6, 6, 6],\n",
    "                        [7, 7, 7, 7], [8, 8, 8, 8]],\n",
    "                       [[5, 5, 5, 5], [6, 6, 6, 6],\n",
    "                        [7, 7, 7, 7], [8, 8, 8, 8]]])\n",
    "updates = tf.constant(t)\n",
    "print (t.shape)\n",
    "\n",
    "shape = tf.constant([4, 4, 4])\n",
    "scatter = tf.scatter_nd(indices, updates, shape)\n",
    "with tf.Session() as sess:\n",
    "    a = sess.run(scatter)\n",
    "    print (a.shape)"
   ]
  },
  {
   "cell_type": "code",
   "execution_count": 11,
   "metadata": {},
   "outputs": [
    {
     "data": {
      "text/plain": [
       "TensorShape([Dimension(2), Dimension(1)])"
      ]
     },
     "execution_count": 11,
     "metadata": {},
     "output_type": "execute_result"
    }
   ],
   "source": [
    "indices.shape"
   ]
  },
  {
   "cell_type": "code",
   "execution_count": 28,
   "metadata": {},
   "outputs": [],
   "source": [
    "import cv2\n",
    "import os"
   ]
  },
  {
   "cell_type": "code",
   "execution_count": 34,
   "metadata": {},
   "outputs": [],
   "source": [
    "import matplotlib\n",
    "from matplotlib import pyplot as pl\n",
    "%matplotlib inline\n",
    "\n",
    "def crop_and_resize (frame):\n",
    "    return cv2.resize(frame[36:250, 114:328, :], (15, 15), interpolation = cv2.INTER_LINEAR)\n"
   ]
  },
  {
   "cell_type": "code",
   "execution_count": 35,
   "metadata": {},
   "outputs": [
    {
     "data": {
      "text/plain": [
       "<matplotlib.image.AxesImage at 0x12baa77f0>"
      ]
     },
     "execution_count": 35,
     "metadata": {},
     "output_type": "execute_result"
    },
    {
     "data": {
      "image/png": "[encoded data removed]",
      "text/plain": [
       "<matplotlib.figure.Figure at 0x122345470>"
      ]
     },
     "metadata": {},
     "output_type": "display_data"
    }
   ],
   "source": [
    "cap = cv2.VideoCapture(os.path.join('..', 'target', '0', '0.mp4'))\n",
    "ret, frame = cap.read()\n",
    "\n",
    "img = crop_and_resize(frame)\n",
    "\n",
    "pl.imshow(img)"
   ]
  },
  {
   "cell_type": "code",
   "execution_count": 36,
   "metadata": {},
   "outputs": [
    {
     "data": {
      "text/plain": [
       "(15, 15, 3)"
      ]
     },
     "execution_count": 36,
     "metadata": {},
     "output_type": "execute_result"
    }
   ],
   "source": [
    "img.shape"
   ]
  },
  {
   "cell_type": "code",
   "execution_count": 53,
   "metadata": {},
   "outputs": [
    {
     "data": {
      "image/png": "[encoded data removed]",
      "text/plain": [
       "<matplotlib.figure.Figure at 0x12bca5160>"
      ]
     },
     "metadata": {},
     "output_type": "display_data"
    }
   ],
   "source": [
    "def create_indices ( shape, pos, action ):\n",
    "    # Because we will only shift cell in the first 2 dimensions\n",
    "    indices = np.zeros((shape, shape, 2), dtype=np.int32)\n",
    "    \n",
    "    for i in range(shape):\n",
    "        for j in range(shape):\n",
    "            indices[i,j]= [i,j]\n",
    "    \n",
    "    i = pos[0]\n",
    "    j = pos[1]\n",
    "    \n",
    "    if action == 'left':\n",
    "        indices[i,j] = [i,j-1]\n",
    "        indices[i,j-1] = [i,j]\n",
    "        \n",
    "    if action == 'right':\n",
    "        indices[i,j] = [i,j+1]\n",
    "        indices[i,j+1] = [i,j]\n",
    "        \n",
    "    if action == 'up':\n",
    "        indices[i,j] = [i-1,j]\n",
    "        indices[i-1,j] = [i,j]\n",
    "        \n",
    "    if action == 'down':\n",
    "        indices[i,j] = [i+1,j]\n",
    "        indices[i+1,j] = [i,j]\n",
    "        \n",
    "    return tf.constant(indices)\n",
    "\n",
    "updates = tf.constant(img)\n",
    "shape = tf.constant([15, 15, 3])\n",
    "\n",
    "fig=pl.figure(figsize=(8, 8))\n",
    "\n",
    "with tf.Session() as sess:\n",
    "    for i,action in enumerate(['left', 'right', 'up', 'down']):\n",
    "        indices = create_indices(15, [3,13], action)\n",
    "        scatter = tf.scatter_nd(indices, updates, shape)\n",
    "        new_img = sess.run(scatter)\n",
    "    \n",
    "        fig.add_subplot(1, 4, i + 1)\n",
    "        pl.imshow(new_img)\n",
    "        \n",
    "pl.show()"
   ]
  },
  {
   "cell_type": "code",
   "execution_count": null,
   "metadata": {},
   "outputs": [],
   "source": []
  }
 ],
 "metadata": {
  "kernelspec": {
   "display_name": "Python 3",
   "language": "python",
   "name": "python3"
  },
  "language_info": {
   "codemirror_mode": {
    "name": "ipython",
    "version": 3
   },
   "file_extension": ".py",
   "mimetype": "text/x-python",
   "name": "python",
   "nbconvert_exporter": "python",
   "pygments_lexer": "ipython3",
   "version": "3.6.3"
  }
 },
 "nbformat": 4,
 "nbformat_minor": 2
}
