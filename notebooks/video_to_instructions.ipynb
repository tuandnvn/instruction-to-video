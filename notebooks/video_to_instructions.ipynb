{
 "cells": [
  {
   "cell_type": "markdown",
   "metadata": {},
   "source": [
    "### Get instructions"
   ]
  },
  {
   "cell_type": "code",
   "execution_count": 18,
   "metadata": {
    "collapsed": true
   },
   "outputs": [],
   "source": [
    "instruction_dict = {'up': 0, 'right': 1, 'down': 2, 'left': 3}\n",
    "reverse_instruction_dict = dict((v,k) for (k,v) in instruction_dict.items())\n",
    "def decode ( sequence ):\n",
    "    return [reverse_instruction_dict[s] for s in sequence]"
   ]
  },
  {
   "cell_type": "code",
   "execution_count": 24,
   "metadata": {},
   "outputs": [
    {
     "ename": "ModuleNotFoundError",
     "evalue": "No module named 'cv2'",
     "output_type": "error",
     "traceback": [
      "\u001b[0;31m---------------------------------------------------------------------------\u001b[0m",
      "\u001b[0;31mModuleNotFoundError\u001b[0m                       Traceback (most recent call last)",
      "\u001b[0;32m<ipython-input-24-e17e4e9aa08a>\u001b[0m in \u001b[0;36m<module>\u001b[0;34m()\u001b[0m\n\u001b[0;32m----> 1\u001b[0;31m \u001b[0;32mimport\u001b[0m \u001b[0mcv2\u001b[0m\u001b[0;34m\u001b[0m\u001b[0m\n\u001b[0m\u001b[1;32m      2\u001b[0m \u001b[0;32mdef\u001b[0m \u001b[0mget_instruction_btw_frame\u001b[0m\u001b[0;34m(\u001b[0m \u001b[0mprev_frame\u001b[0m\u001b[0;34m,\u001b[0m \u001b[0mcur_frame\u001b[0m \u001b[0;34m)\u001b[0m\u001b[0;34m:\u001b[0m\u001b[0;34m\u001b[0m\u001b[0m\n\u001b[1;32m      3\u001b[0m     \u001b[0mdiff\u001b[0m \u001b[0;34m=\u001b[0m \u001b[0mabs\u001b[0m\u001b[0;34m(\u001b[0m\u001b[0mprev_frame\u001b[0m\u001b[0;34m.\u001b[0m\u001b[0mastype\u001b[0m\u001b[0;34m(\u001b[0m\u001b[0mnp\u001b[0m\u001b[0;34m.\u001b[0m\u001b[0mint32\u001b[0m\u001b[0;34m)\u001b[0m \u001b[0;34m-\u001b[0m \u001b[0mcur_frame\u001b[0m\u001b[0;34m.\u001b[0m\u001b[0mastype\u001b[0m\u001b[0;34m(\u001b[0m\u001b[0mnp\u001b[0m\u001b[0;34m.\u001b[0m\u001b[0mint32\u001b[0m\u001b[0;34m)\u001b[0m\u001b[0;34m)\u001b[0m\u001b[0;34m\u001b[0m\u001b[0m\n\u001b[1;32m      4\u001b[0m     \u001b[0mvals\u001b[0m \u001b[0;34m=\u001b[0m \u001b[0mnp\u001b[0m\u001b[0;34m.\u001b[0m\u001b[0margwhere\u001b[0m\u001b[0;34m(\u001b[0m\u001b[0mdiff\u001b[0m \u001b[0;34m>=\u001b[0m \u001b[0;36m20\u001b[0m\u001b[0;34m)\u001b[0m\u001b[0;34m\u001b[0m\u001b[0m\n\u001b[1;32m      5\u001b[0m \u001b[0;34m\u001b[0m\u001b[0m\n",
      "\u001b[0;31mModuleNotFoundError\u001b[0m: No module named 'cv2'"
     ]
    }
   ],
   "source": [
    "import cv2\n",
    "def get_instruction_btw_frame( prev_frame, cur_frame ):\n",
    "    diff = abs(prev_frame.astype(np.int32) - cur_frame.astype(np.int32))\n",
    "    vals = np.argwhere(diff >= 20)\n",
    "    \n",
    "    points = set()\n",
    "    for val in vals:\n",
    "        points.add(tuple(val[:2]))\n",
    "    \n",
    "    # if prev_frame[points[0]] ~ (255,255,255), points[0] is target, points[1] is start\n",
    "    # otherwise reverse\n",
    "    \n",
    "    points = list(points)\n",
    "    \n",
    "    if np.sum(abs(prev_frame[points[0]].astype(np.int32) - np.array([255, 255, 255]))) > 20:\n",
    "        source = np.array(points[0])\n",
    "        target = np.array(points[1])\n",
    "    else:\n",
    "        source = np.array(points[1])\n",
    "        target = np.array(points[0])\n",
    "\n",
    "        \n",
    "    if np.array_equal(target - source , [0, 1]):\n",
    "        return 1\n",
    "    if np.array_equal(target - source , [0, -1]):\n",
    "        return 3\n",
    "    if np.array_equal(target - source , [1, 0]):\n",
    "        return 2\n",
    "    if np.array_equal(target - source , [-1, 0]):\n",
    "        return 0\n",
    "        \n",
    "\n",
    "def get_instructions ( video_path, debug = True ):\n",
    "    cap = cv2.VideoCapture(video_path)\n",
    "    \n",
    "    prev_frame = None\n",
    "    instructions = []\n",
    "\n",
    "    counter = 0\n",
    "    while (cap.isOpened()):\n",
    "        ret, frame = cap.read()\n",
    "\n",
    "        if not ret:\n",
    "            break\n",
    "            \n",
    "        c_frame = crop_and_resize(frame)\n",
    "        \n",
    "        # Get the instruction between prev_frame and frame\n",
    "        if prev_frame is not None:\n",
    "            instruction = get_instruction_btw_frame (prev_frame, c_frame)\n",
    "            instructions.append(instruction)\n",
    "\n",
    "        counter += 1\n",
    "\n",
    "        prev_frame = c_frame\n",
    "        \n",
    "    #pl.imshow(prev_frame)\n",
    "    \n",
    "    if debug :\n",
    "        print ('There are %d frames ' % counter)\n",
    "        print ('The list of instructions are %s ' % decode( instructions ))\n",
    "    \n",
    "    return decode( instructions )"
   ]
  },
  {
   "cell_type": "markdown",
   "metadata": {},
   "source": [
    "### Get puzzle_to_instructions dict"
   ]
  },
  {
   "cell_type": "code",
   "execution_count": 21,
   "metadata": {},
   "outputs": [],
   "source": [
    "from collections import defaultdict\n",
    "import os\n",
    "\n",
    "puzzle_to_instructions = defaultdict(list)\n",
    "\n",
    "with open(os.path.join('..', 'annotation.csv'), 'r') as fh:\n",
    "    for line in fh:\n",
    "        parts = line.split(',')\n",
    "        \n",
    "        puzzle = int(parts[1])\n",
    "        text = ' '.join( parts[2:] )\n",
    "        \n",
    "        text = text.replace ('-', ' ').strip()\n",
    "        \n",
    "        if text != '':\n",
    "            puzzle_to_instructions[puzzle].append(text)\n",
    "\n",
    "with open(os.path.join('..', 'annotation2.csv'), 'r') as fh:\n",
    "    for line in fh:\n",
    "        parts = line.split(',')\n",
    "        \n",
    "        puzzle = int(parts[1])\n",
    "        text = ' '.join( parts[2:] )\n",
    "        \n",
    "        text = text.replace ('-', ' ').strip()\n",
    "        \n",
    "        if text != '':\n",
    "            puzzle_to_instructions[puzzle].append(text)"
   ]
  },
  {
   "cell_type": "markdown",
   "metadata": {},
   "source": [
    "### Create training dataset"
   ]
  },
  {
   "cell_type": "code",
   "execution_count": 25,
   "metadata": {},
   "outputs": [],
   "source": [
    "src_file = 'train_instructions.txt'\n",
    "tgt_file = 'train_commands.txt'\n",
    "with open(os.path.join('..', 'new_data', src_file), 'w') as fh:\n",
    "    with open(os.path.join('..', 'new_data', tgt_file), 'w') as fh2:\n",
    "        \n",
    "        for puzzle in range(200):\n",
    "            instructions = puzzle_to_instructions[puzzle]\n",
    "            \n",
    "            directory = puzzle // 100\n",
    "            \n",
    "            commands = get_instructions(os.path.join('..', 'target', str(directory), str(puzzle) + '.mp4'), debug = False)\n",
    "            \n",
    "            for instruction in instructions[:-1]:\n",
    "                fh.write(instruction.lower())\n",
    "                fh.write('\\n')\n",
    "                fh2.write(' '.join(commands))\n",
    "                fh2.write('\\n')"
   ]
  },
  {
   "cell_type": "markdown",
   "metadata": {},
   "source": [
    "### Create validation dataset"
   ]
  },
  {
   "cell_type": "code",
   "execution_count": null,
   "metadata": {
    "collapsed": true
   },
   "outputs": [],
   "source": [
    "src_file = 'eval_instructions.txt'\n",
    "tgt_file = 'eval_commands.txt'\n",
    "with open(os.path.join('..', 'data', src_file), 'w') as fh:\n",
    "    with open(os.path.join('..', 'data', tgt_file), 'w') as fh2:\n",
    "        \n",
    "        for puzzle in range(200):\n",
    "            instructions = puzzle_to_instructions[puzzle]\n",
    "            \n",
    "            directory = puzzle // 100\n",
    "            \n",
    "            commands = get_instructions(os.path.join('..', 'target', str(directory), str(puzzle) + '.mp4'), debug = False)\n",
    "            \n",
    "            for instruction in instructions[-1]:\n",
    "                fh.write(instruction.lower())\n",
    "                fh.write('\\n')\n",
    "                fh2.write(' '.join(commands))\n",
    "                fh2.write('\\n')"
   ]
  },
  {
   "cell_type": "markdown",
   "metadata": {},
   "source": [
    "### Create testing dataset"
   ]
  },
  {
   "cell_type": "code",
   "execution_count": null,
   "metadata": {
    "collapsed": true
   },
   "outputs": [],
   "source": [
    "src_file = 'test_instructions.txt'\n",
    "tgt_file = 'test_commands.txt'\n",
    "with open(os.path.join('..', 'data', src_file), 'w') as fh:\n",
    "    with open(os.path.join('..', 'data', tgt_file), 'w') as fh2:\n",
    "        \n",
    "        for puzzle in range(200, 300):\n",
    "            instructions = puzzle_to_instructions[puzzle]\n",
    "            \n",
    "            directory = puzzle // 100\n",
    "            \n",
    "            commands = get_instructions(os.path.join('..', 'target', str(directory), str(puzzle) + '.mp4'), debug = False)\n",
    "            \n",
    "            for instruction in instructions[-1]:\n",
    "                fh.write(instruction.lower())\n",
    "                fh.write('\\n')\n",
    "                fh2.write(' '.join(commands))\n",
    "                fh2.write('\\n')"
   ]
  },
  {
   "cell_type": "code",
   "execution_count": null,
   "metadata": {
    "collapsed": true
   },
   "outputs": [],
   "source": []
  }
 ],
 "metadata": {
  "kernelspec": {
   "display_name": "Python 3",
   "language": "python",
   "name": "python3"
  },
  "language_info": {
   "codemirror_mode": {
    "name": "ipython",
    "version": 3
   },
   "file_extension": ".py",
   "mimetype": "text/x-python",
   "name": "python",
   "nbconvert_exporter": "python",
   "pygments_lexer": "ipython3",
   "version": "3.6.4"
  }
 },
 "nbformat": 4,
 "nbformat_minor": 2
}
