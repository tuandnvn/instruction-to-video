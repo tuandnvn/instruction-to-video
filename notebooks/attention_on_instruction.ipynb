{
 "cells": [
  {
   "cell_type": "code",
   "execution_count": 8,
   "metadata": {},
   "outputs": [
    {
     "name": "stderr",
     "output_type": "stream",
     "text": [
      "Using TensorFlow backend.\n"
     ]
    },
    {
     "ename": "ImportError",
     "evalue": "No module named 'attention_decoder'",
     "output_type": "error",
     "traceback": [
      "\u001b[1;31m---------------------------------------------------------------\u001b[0m",
      "\u001b[1;31mImportError\u001b[0m                   Traceback (most recent call last)",
      "\u001b[1;32m<ipython-input-8-d8be936b6260>\u001b[0m in \u001b[0;36m<module>\u001b[1;34m()\u001b[0m\n\u001b[0;32m      9\u001b[0m \u001b[1;32mfrom\u001b[0m \u001b[0mnumpy\u001b[0m \u001b[1;32mimport\u001b[0m \u001b[0marray\u001b[0m\u001b[1;33m,\u001b[0m \u001b[0marray_equal\u001b[0m\u001b[1;33m,\u001b[0m \u001b[0margmax\u001b[0m\u001b[1;33m\u001b[0m\u001b[0m\n\u001b[0;32m     10\u001b[0m \u001b[1;32mimport\u001b[0m \u001b[0mtensorflow\u001b[0m \u001b[1;32mas\u001b[0m \u001b[0mtf\u001b[0m\u001b[1;33m\u001b[0m\u001b[0m\n\u001b[1;32m---> 11\u001b[1;33m \u001b[1;32mimport\u001b[0m \u001b[0mattention_decoder\u001b[0m\u001b[1;33m\u001b[0m\u001b[0m\n\u001b[0m\u001b[0;32m     12\u001b[0m \u001b[1;33m\u001b[0m\u001b[0m\n\u001b[0;32m     13\u001b[0m \"\"\"\n",
      "\u001b[1;31mImportError\u001b[0m: No module named 'attention_decoder'"
     ]
    }
   ],
   "source": [
    "import os, sys\n",
    "\n",
    "module_path = os.path.abspath(os.path.join('..'))\n",
    "if module_path not in sys.path:\n",
    "    sys.path.append(module_path)\n",
    "    \n",
    "from keras.models import Sequential\n",
    "from keras.layers import TimeDistributed, LSTM, Dense, RepeatVector\n",
    "from numpy import array, array_equal, argmax\n",
    "import tensorflow as tf\n",
    "import attention_decoder\n",
    "\n",
    "\"\"\"\n",
    "Sample keras model\n",
    "\"\"\"\n",
    "def create_model_1():\n",
    "    Note = Input(shape=(sequence_length, n_vocab), dtype = 'float32')\n",
    "    y = LSTM(400, input_shape = (sequence_length, n_vocab), return_sequences = True ) (Note)\n",
    "    y = Dropout(0.4) (y)\n",
    "    y = LSTM(400) (y)\n",
    "    y = Dropout(0.4) (y)\n",
    "    # Two weights, two bias\n",
    "    # If coordinates of input is (X1, X2), and this layer is (Y1, Y2, Y3, Y4)\n",
    "    # Result would be \n",
    "    y1 = Lambda(lambda x: x*2)( Dense(2, activation = 'tanh') (y) )\n",
    "    y2 = Dense(2, activation = 'linear') (y)\n",
    "    Coordinates = Input(shape= (2, ), dtype = 'float32')\n",
    "    print (keras.backend.shape(y1))\n",
    "    print (keras.backend.shape(Coordinates))\n",
    "    c1 = Multiply()([y1, Coordinates])\n",
    "    c = Add()([y2, c1])\n",
    "    m = Model(inputs = [Note, Coordinates], outputs = c)\n",
    "\n",
    "    print (m.summary())\n",
    "    m.compile(loss='mean_squared_error', optimizer='adam')\n",
    "\n",
    "    return m\n",
    "\n",
    "def create_sample_attention_model () :\n",
    "    model = Sequential()\n",
    "    model.add(LSTM(150, input_shape=(n_timesteps_in, n_features), return_sequences=True))\n",
    "    model.add(attention_decoder.AttentionDecoder(150, n_features))\n",
    "    model.compile(loss='categorical_crossentropy', optimizer='adam', metrics=['acc'])\n",
    "    \n",
    "    return model"
   ]
  },
  {
   "cell_type": "markdown",
   "metadata": {},
   "source": [
    "Seems like for this problem, I need to use Tensorflow"
   ]
  },
  {
   "cell_type": "code",
   "execution_count": 2,
   "metadata": {
    "collapsed": true
   },
   "outputs": [],
   "source": [
    "output_ta = tf.TensorArray(size=784, dtype=tf.float32)  # store trained/sampled pixel\n",
    "def loop_fn(time, cell_output, cell_state, loop_state):\n",
    "    emit_output = cell_output  # == None for time == 0\n",
    "    if cell_output is None:\n",
    "        # time=0, everything here will be used for initialization only\n",
    "        next_cell_state = cell_init_state\n",
    "        next_pixel = cell_init_pixel\n",
    "        next_loop_state = output_ta\n",
    "    else:  \n",
    "        # pass the last state to the next\n",
    "        next_cell_state = cell_state\n",
    "        next_pixel = tf.cond(is_training,\n",
    "                         lambda: inputs_ta.read(time - 1),\n",
    "                         lambda: tf.contrib.distributions.Bernoulli(\n",
    "                             probs=tf.nn.sigmoid(tf.layers.dense(cell_output, 1, \n",
    "                                 name='output_to_p', activation=tf.nn.sigmoid,\n",
    "                                 reuse=True)),\n",
    "                             dtype=tf.float32).sample())\n",
    "        next_loop_state = loop_state.write(time - 1, next_pixel)\n",
    "    elements_finished = (time >= 784)\n",
    "    return (elements_finished, next_pixel, next_cell_state,\n",
    "            emit_output, next_loop_state)"
   ]
  },
  {
   "cell_type": "code",
   "execution_count": 6,
   "metadata": {
    "collapsed": true
   },
   "outputs": [],
   "source": [
    "from tensorflow.python.ops.rnn import _transpose_batch_time\n",
    "\n",
    "def sampling_rnn(self, cell, initial_state, input_, seq_lengths):\n",
    "\n",
    "    # raw_rnn expects time major inputs as TensorArrays\n",
    "    max_time = ...  # this is the max time step per batch\n",
    "    inputs_ta = tf.TensorArray(dtype=tf.float32, size=max_time, clear_after_read=False)\n",
    "    inputs_ta = inputs_ta.unstack(_transpose_batch_time(input_))  # model_input is the input placeholder\n",
    "    input_dim = input_.get_shape()[-1].value  # the dimensionality of the input to each time step\n",
    "    output_dim = ...  # the dimensionality of the model's output at each time step\n",
    "    \n",
    "    def loop_fn(time, cell_output, cell_state, loop_state):\n",
    "        \"\"\"\n",
    "        Loop function that allows to control input to the rnn cell and manipulate cell outputs.\n",
    "        :param time: current time step\n",
    "        :param cell_output: output from previous time step or None if time == 0\n",
    "        :param cell_state: cell state from previous time step\n",
    "        :param loop_state: custom loop state to share information between different iterations of this loop fn\n",
    "        :return: tuple consisting of\n",
    "          elements_finished: tensor of size [bach_size] which is True for sequences that have reached their end,\n",
    "            needed because of variable sequence size\n",
    "          next_input: input to next time step\n",
    "          next_cell_state: cell state forwarded to next time step\n",
    "          emit_output: The first return argument of raw_rnn. This is not necessarily the output of the RNN cell,\n",
    "            but could e.g. be the output of a dense layer attached to the rnn layer.\n",
    "          next_loop_state: loop state forwarded to the next time step\n",
    "        \"\"\"\n",
    "        if cell_output is None:\n",
    "            # time == 0, used for initialization before first call to cell\n",
    "            next_cell_state = initial_state\n",
    "            # the emit_output in this case tells TF how future emits look\n",
    "            emit_output = tf.zeros([output_dim])\n",
    "        else:\n",
    "            # t > 0, called right after call to cell, i.e. cell_output is the output from time t-1.\n",
    "            # here you can do whatever ou want with cell_output before assigning it to emit_output.\n",
    "            # In this case, we don't do anything\n",
    "            next_cell_state = cell_state\n",
    "            emit_output = cell_output  \n",
    "\n",
    "        # check which elements are finished\n",
    "        elements_finished = (time >= seq_lengths)\n",
    "        finished = tf.reduce_all(elements_finished)\n",
    "\n",
    "        # assemble cell input for upcoming time step\n",
    "        current_output = emit_output if cell_output is not None else None\n",
    "        input_original = inputs_ta.read(time)  # tensor of shape (None, input_dim)\n",
    "\n",
    "        if current_output is None:\n",
    "            # this is the initial step, i.e. there is no output from a previous time step, what we feed here\n",
    "            # can highly depend on the data. In this case we just assign the actual input in the first time step.\n",
    "            next_in = input_original\n",
    "        else:\n",
    "            # time > 0, so just use previous output as next input\n",
    "            # here you could do fancier things, whatever you want to do before passing the data into the rnn cell\n",
    "            # if here you were to pass input_original than you would get the normal behaviour of dynamic_rnn\n",
    "            next_in = current_output\n",
    "\n",
    "        next_input = tf.cond(finished,\n",
    "                             lambda: tf.zeros([self.batch_size, input_dim], dtype=tf.float32),  # copy through zeros\n",
    "                             lambda: next_in)  # if not finished, feed the previous output as next input\n",
    "\n",
    "        # set shape manually, otherwise it is not defined for the last dimensions\n",
    "        next_input.set_shape([None, input_dim])\n",
    "\n",
    "        # loop state not used in this example\n",
    "        next_loop_state = None\n",
    "        return (elements_finished, next_input, next_cell_state, emit_output, next_loop_state)\n",
    "\n",
    "    outputs_ta, last_state, _ = tf.nn.raw_rnn(cell, loop_fn)\n",
    "    outputs = _transpose_batch_time(outputs_ta.stack())\n",
    "    final_state = last_state\n",
    "\n",
    "    return outputs, final_state"
   ]
  },
  {
   "cell_type": "code",
   "execution_count": 9,
   "metadata": {
    "collapsed": true
   },
   "outputs": [],
   "source": [
    "import cv2\n",
    "import os\n",
    "import pylab as pl\n",
    "%matplotlib inline"
   ]
  },
  {
   "cell_type": "markdown",
   "metadata": {},
   "source": [
    "### Image size \n",
    "\n",
    "(288, 432, 3)"
   ]
  },
  {
   "cell_type": "code",
   "execution_count": 10,
   "metadata": {
    "collapsed": true
   },
   "outputs": [],
   "source": [
    "cap = cv2.VideoCapture(os.path.join('..', 'target', '0', '0.mp4'))"
   ]
  },
  {
   "cell_type": "code",
   "execution_count": 16,
   "metadata": {
    "collapsed": true
   },
   "outputs": [],
   "source": [
    "def crop_and_resize (frame):\n",
    "    \n",
    "    # cv2.resize(frame, (10, 10), interpolation = cv2.INTER_AREA)\n",
    "#     return frame[36:250, 114:328, :]\n",
    "    return cv2.resize(frame[36:250, 114:328, :], (15, 15), interpolation = cv2.INTER_LINEAR)"
   ]
  },
  {
   "cell_type": "code",
   "execution_count": 156,
   "metadata": {
    "collapsed": true
   },
   "outputs": [],
   "source": [
    "data = []\n",
    "\n",
    "counter = 0\n",
    "while (cap.isOpened()):\n",
    "    ret, frame = cap.read()\n",
    "\n",
    "    if not ret:\n",
    "        break\n",
    "        \n",
    "    data.append(crop_and_resize(frame))\n",
    "    \n",
    "    counter += 1"
   ]
  },
  {
   "cell_type": "code",
   "execution_count": 157,
   "metadata": {},
   "outputs": [
    {
     "ename": "IndexError",
     "evalue": "list index out of range",
     "output_type": "error",
     "traceback": [
      "\u001b[1;31m---------------------------------------------------------------\u001b[0m",
      "\u001b[1;31mIndexError\u001b[0m                    Traceback (most recent call last)",
      "\u001b[1;32m<ipython-input-157-e3ca9b474a6f>\u001b[0m in \u001b[0;36m<module>\u001b[1;34m()\u001b[0m\n\u001b[1;32m----> 1\u001b[1;33m \u001b[0mpl\u001b[0m\u001b[1;33m.\u001b[0m\u001b[0mimshow\u001b[0m\u001b[1;33m(\u001b[0m\u001b[0mdata\u001b[0m\u001b[1;33m[\u001b[0m\u001b[1;36m18\u001b[0m\u001b[1;33m]\u001b[0m\u001b[1;33m)\u001b[0m\u001b[1;33m\u001b[0m\u001b[0m\n\u001b[0m",
      "\u001b[1;31mIndexError\u001b[0m: list index out of range"
     ]
    }
   ],
   "source": [
    "pl.imshow(data[18])"
   ]
  },
  {
   "cell_type": "markdown",
   "metadata": {},
   "source": [
    "### Get instruction signal\n",
    "\n",
    "Parse the video file into instruction sequence"
   ]
  },
  {
   "cell_type": "code",
   "execution_count": 11,
   "metadata": {
    "collapsed": true
   },
   "outputs": [],
   "source": [
    "instruction_dict = {'up': 0, 'right': 1, 'down': 2, 'left': 3}"
   ]
  },
  {
   "cell_type": "code",
   "execution_count": 12,
   "metadata": {
    "collapsed": true
   },
   "outputs": [],
   "source": [
    "reverse_instruction_dict = dict((v,k) for (k,v) in instruction_dict.items())"
   ]
  },
  {
   "cell_type": "code",
   "execution_count": 36,
   "metadata": {
    "collapsed": true
   },
   "outputs": [],
   "source": [
    "def decode ( sequence ):\n",
    "    return ' '.join([reverse_instruction_dict[s] for s in sequence])"
   ]
  },
  {
   "cell_type": "code",
   "execution_count": 37,
   "metadata": {
    "collapsed": true
   },
   "outputs": [],
   "source": [
    "def get_instruction_btw_frame( prev_frame, cur_frame ):\n",
    "    diff = abs(prev_frame.astype(np.int32) - cur_frame.astype(np.int32))\n",
    "    vals = np.argwhere(diff >= 20)\n",
    "    \n",
    "    points = set()\n",
    "    for val in vals:\n",
    "        points.add(tuple(val[:2]))\n",
    "    \n",
    "    # if prev_frame[points[0]] ~ (255,255,255), points[0] is target, points[1] is start\n",
    "    # otherwise reverse\n",
    "    \n",
    "    points = list(points)\n",
    "    \n",
    "    if np.sum(abs(prev_frame[points[0]].astype(np.int32) - np.array([255, 255, 255]))) > 20:\n",
    "        source = np.array(points[0])\n",
    "        target = np.array(points[1])\n",
    "    else:\n",
    "        source = np.array(points[1])\n",
    "        target = np.array(points[0])\n",
    "\n",
    "        \n",
    "    if np.array_equal(target - source , [0, 1]):\n",
    "        return 1\n",
    "    if np.array_equal(target - source , [0, -1]):\n",
    "        return 3\n",
    "    if np.array_equal(target - source , [1, 0]):\n",
    "        return 2\n",
    "    if np.array_equal(target - source , [-1, 0]):\n",
    "        return 0\n",
    "        \n",
    "\n",
    "def get_instructions ( video_path, debug = True ):\n",
    "    cap = cv2.VideoCapture(video_path)\n",
    "    \n",
    "    prev_frame = None\n",
    "    instructions = []\n",
    "\n",
    "    counter = 0\n",
    "    while (cap.isOpened()):\n",
    "        ret, frame = cap.read()\n",
    "\n",
    "        if not ret:\n",
    "            break\n",
    "            \n",
    "        c_frame = crop_and_resize(frame)\n",
    "        \n",
    "        # Get the instruction between prev_frame and frame\n",
    "        if prev_frame is not None:\n",
    "            instruction = get_instruction_btw_frame (prev_frame, c_frame)\n",
    "            instructions.append(instruction)\n",
    "\n",
    "        counter += 1\n",
    "\n",
    "        prev_frame = c_frame\n",
    "        \n",
    "    #pl.imshow(prev_frame)\n",
    "    \n",
    "    if debug :\n",
    "        print ('There are %d frames ' % counter)\n",
    "        print ('The list of instructions are %s ' % decode( instructions ))\n",
    "    \n",
    "    return decode( instructions )"
   ]
  },
  {
   "cell_type": "code",
   "execution_count": 18,
   "metadata": {},
   "outputs": [
    {
     "name": "stdout",
     "output_type": "stream",
     "text": [
      "There are 19 frames \n",
      "The list of instructions are down,down,down,down,down,down,left,left,down,down,left,left,left,left,left,left,down,left \n"
     ]
    },
    {
     "data": {
      "text/plain": [
       "[2, 2, 2, 2, 2, 2, 3, 3, 2, 2, 3, 3, 3, 3, 3, 3, 2, 3]"
      ]
     },
     "execution_count": 18,
     "metadata": {},
     "output_type": "execute_result"
    }
   ],
   "source": [
    "get_instructions(os.path.join('..', 'target', '0', '0.mp4'))"
   ]
  },
  {
   "cell_type": "markdown",
   "metadata": {},
   "source": [
    "### Baseline model\n",
    "\n",
    "LSTM model with attention with the image being additional input to encoded vector.\n",
    "\n",
    "The simplest model would have image flattened out into an 100-cell vectors. Colors are coded."
   ]
  },
  {
   "cell_type": "markdown",
   "metadata": {},
   "source": [
    "### Generate instructions and commands text files and vocab files"
   ]
  },
  {
   "cell_type": "code",
   "execution_count": 19,
   "metadata": {
    "collapsed": true
   },
   "outputs": [],
   "source": [
    "src_file = 'instructions.txt'\n",
    "tgt_file = 'commands.txt'\n",
    "src_vocab_file = 'instructions.vocab'\n",
    "tgt_vocab_file = 'commands.vocab'"
   ]
  },
  {
   "cell_type": "code",
   "execution_count": null,
   "metadata": {
    "collapsed": true
   },
   "outputs": [],
   "source": [
    "\"\"\"\n",
    "Sample text\n",
    "Alexander Reese,100,move the purple block between the yellow block and elastic red block stop in the creak of the purple L-shape block\n",
    "\"\"\""
   ]
  },
  {
   "cell_type": "code",
   "execution_count": 29,
   "metadata": {},
   "outputs": [],
   "source": [
    "from collections import defaultdict\n",
    "\n",
    "puzzle_to_instructions = defaultdict(list)\n",
    "\n",
    "with open(os.path.join('..', 'annotation.csv'), 'r') as fh:\n",
    "    for line in fh:\n",
    "        parts = line.split(',')\n",
    "        \n",
    "        puzzle = int(parts[1])\n",
    "        text = ' '.join( parts[2:] )\n",
    "        \n",
    "        text = text.replace ('-', ' ').strip()\n",
    "        \n",
    "        if text != '':\n",
    "            puzzle_to_instructions[puzzle].append(text)\n",
    "            \n"
   ]
  },
  {
   "cell_type": "code",
   "execution_count": 35,
   "metadata": {},
   "outputs": [],
   "source": [
    "import pickle\n",
    "\n",
    "with open('puzzle.dat', 'wb') as fh:\n",
    "    pickle.dump(puzzle_to_instructions, fh)"
   ]
  },
  {
   "cell_type": "code",
   "execution_count": 53,
   "metadata": {},
   "outputs": [],
   "source": [
    "with open(os.path.join('..', 'data', src_file), 'w') as fh:\n",
    "    with open(os.path.join('..', 'data', tgt_file), 'w') as fh2:\n",
    "        \n",
    "        for puzzle in range(200):\n",
    "            instructions = puzzle_to_instructions[puzzle]\n",
    "            \n",
    "            directory = puzzle // 100\n",
    "            \n",
    "            commands = get_instructions(os.path.join('..', 'target', str(directory), str(puzzle) + '.mp4'), debug = False)\n",
    "            \n",
    "            for instruction in instructions[:-1]:\n",
    "                fh.write(instruction.lower())\n",
    "                fh.write('\\n')\n",
    "                fh2.write(commands)\n",
    "                fh2.write('\\n')"
   ]
  },
  {
   "cell_type": "markdown",
   "metadata": {},
   "source": [
    "### Create vocabulary files"
   ]
  },
  {
   "cell_type": "code",
   "execution_count": 43,
   "metadata": {},
   "outputs": [
    {
     "name": "stdout",
     "output_type": "stream",
     "text": [
      "curses is not supported on this machine (please install/reinstall curses for an optimal experience)\n"
     ]
    }
   ],
   "source": [
    "import tflearn"
   ]
  },
  {
   "cell_type": "code",
   "execution_count": 44,
   "metadata": {
    "collapsed": true
   },
   "outputs": [],
   "source": [
    "from tflearn.data_utils import VocabularyProcessor"
   ]
  },
  {
   "cell_type": "code",
   "execution_count": 52,
   "metadata": {},
   "outputs": [],
   "source": [
    "vp = VocabularyProcessor(min_frequency=10, max_document_length = 100)\n",
    "\n",
    "vp.fit(t for t in puzzle_to_instructions[puzzle] for puzzle in range(200)) \n",
    "\n",
    "t = vp.vocabulary_\n",
    "\n",
    "with open(os.path.join('..', 'data', src_vocab_file), 'w') as fh:\n",
    "    for word in t._reverse_mapping:\n",
    "        fh.write(word)\n",
    "        fh.write('\\n')"
   ]
  },
  {
   "cell_type": "markdown",
   "metadata": {},
   "source": [
    "### Create eval files"
   ]
  },
  {
   "cell_type": "code",
   "execution_count": 54,
   "metadata": {
    "collapsed": true
   },
   "outputs": [],
   "source": [
    "eval_src_file = 'eval_instructions.txt'\n",
    "eval_tgt_file = 'eval_commands.txt'\n",
    "\n",
    "with open(os.path.join('..', 'data', eval_src_file), 'w') as fh:\n",
    "    with open(os.path.join('..', 'data', eval_tgt_file), 'w') as fh2:\n",
    "        \n",
    "        for puzzle in range(200):\n",
    "            instructions = puzzle_to_instructions[puzzle]\n",
    "            \n",
    "            directory = puzzle // 100\n",
    "            \n",
    "            commands = get_instructions(os.path.join('..', 'target', str(directory), str(puzzle) + '.mp4'), debug = False)\n",
    "            \n",
    "            instruction = instructions[-1]\n",
    "            fh.write(instruction.lower())\n",
    "            fh.write('\\n')\n",
    "            fh2.write(commands)\n",
    "            fh2.write('\\n')"
   ]
  },
  {
   "cell_type": "markdown",
   "metadata": {},
   "source": [
    "### Result from one run with\n",
    "\n",
    "```\n",
    "num_units=128,\n",
    "optimizer=\"sgd\",\n",
    "learning_rate=0.2,\n",
    "num_train_steps=2000,\n",
    "```"
   ]
  },
  {
   "cell_type": "code",
   "execution_count": 55,
   "metadata": {
    "collapsed": true
   },
   "outputs": [],
   "source": [
    "train_ppls = [(50, 3.622860993755861), (100, 2.861048874787788), (150, 2.7144358871103695), (200, 2.6244221451141554), (250, 2.559963936057708), (300, 2.4906299530576717), (350, 2.4611581223296883), (400, 2.4081972736561292), (450, 2.376238414347918), (500, 2.3149748093621305), (550, 2.2807155686298373), (600, 2.2271950330723733), (650, 2.1852261228233196), (700, 2.133554434277888), (750, 2.0864403448274174), (800, 2.0275573143614056), (850, 1.966460910555963), (900, 1.9100762230672461), (950, 1.8597766285396615), (1000, 1.8106065211986038), (1050, 1.7577774811347908), (1100, 1.7159142948821353), (1150, 1.6667710320040563), (1200, 1.6176787509841954), (1250, 1.461931473293547), (1300, 1.4199632900484251), (1350, 1.395266490093124), (1400, 1.3680164569824662), (1450, 1.3074188319379587), (1500, 1.289243310363728), (1550, 1.2762814642136484), (1600, 1.2600097457796327), (1650, 1.242998112668705), (1700, 1.2327585428902734), (1750, 1.222338292542516), (1800, 1.2157578290950826), (1850, 1.2029619735575519), (1900, 1.1996501731730116), (1950, 1.1976915749849835), (2000, 1.196468185521777)]\n",
    "dev_ppls = [(200, 2.57433564083528), (400, 2.456461232812054), (600, 2.2005683089711163), (800, 2.0124692521350296), (1000, 1.814219438942708), (1200, 1.723100523239358), (1400, 1.6296202548584209), (1600, 1.6325943888569625), (1800, 1.6608891188844597), (2000, 1.673063526619738)]"
   ]
  },
  {
   "cell_type": "code",
   "execution_count": 56,
   "metadata": {
    "collapsed": true
   },
   "outputs": [],
   "source": [
    "%matplotlib inline"
   ]
  },
  {
   "cell_type": "code",
   "execution_count": 57,
   "metadata": {
    "collapsed": true
   },
   "outputs": [],
   "source": [
    "import matplotlib.pyplot as plt "
   ]
  },
  {
   "cell_type": "code",
   "execution_count": 58,
   "metadata": {},
   "outputs": [
    {
     "data": {
      "text/plain": [
       "[<matplotlib.lines.Line2D at 0x20285bc6780>]"
      ]
     },
     "execution_count": 58,
     "metadata": {},
     "output_type": "execute_result"
    },
    {
     "data": {
      "image/png": "[encoded data removed]",
      "text/plain": [
       "<matplotlib.figure.Figure at 0x20285bc6630>"
      ]
     },
     "metadata": {},
     "output_type": "display_data"
    }
   ],
   "source": [
    "plt.plot([t[0] for t in train_ppls], [t[1] for t in train_ppls])\n",
    "plt.plot([t[0] for t in dev_ppls], [t[1] for t in dev_ppls])"
   ]
  },
  {
   "cell_type": "code",
   "execution_count": null,
   "metadata": {
    "collapsed": true
   },
   "outputs": [],
   "source": []
  }
 ],
 "metadata": {
  "kernelspec": {
   "display_name": "Python 3",
   "language": "python",
   "name": "python3"
  },
  "language_info": {
   "codemirror_mode": {
    "name": "ipython",
    "version": 3
   },
   "file_extension": ".py",
   "mimetype": "text/x-python",
   "name": "python",
   "nbconvert_exporter": "python",
   "pygments_lexer": "ipython3",
   "version": "3.5.4"
  }
 },
 "nbformat": 4,
 "nbformat_minor": 2
}
