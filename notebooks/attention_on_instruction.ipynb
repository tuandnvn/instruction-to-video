{
 "cells": [
  {
   "cell_type": "code",
   "execution_count": 1,
   "metadata": {},
   "outputs": [
    {
     "name": "stderr",
     "output_type": "stream",
     "text": [
      "Using TensorFlow backend.\n"
     ]
    }
   ],
   "source": [
    "import os, sys\n",
    "\n",
    "module_path = os.path.abspath(os.path.join('..'))\n",
    "if module_path not in sys.path:\n",
    "    sys.path.append(module_path)\n",
    "    \n",
    "from keras.models import Sequential\n",
    "from keras.layers import TimeDistributed, LSTM, Dense, RepeatVector\n",
    "from numpy import array, array_equal, argmax\n",
    "import tensorflow as tf\n",
    "import attention_decoder\n",
    "\n",
    "\"\"\"\n",
    "Sample keras model\n",
    "\"\"\"\n",
    "def create_model_1():\n",
    "    Note = Input(shape=(sequence_length, n_vocab), dtype = 'float32')\n",
    "    y = LSTM(400, input_shape = (sequence_length, n_vocab), return_sequences = True ) (Note)\n",
    "    y = Dropout(0.4) (y)\n",
    "    y = LSTM(400) (y)\n",
    "    y = Dropout(0.4) (y)\n",
    "    # Two weights, two bias\n",
    "    # If coordinates of input is (X1, X2), and this layer is (Y1, Y2, Y3, Y4)\n",
    "    # Result would be \n",
    "    y1 = Lambda(lambda x: x*2)( Dense(2, activation = 'tanh') (y) )\n",
    "    y2 = Dense(2, activation = 'linear') (y)\n",
    "    Coordinates = Input(shape= (2, ), dtype = 'float32')\n",
    "    print (keras.backend.shape(y1))\n",
    "    print (keras.backend.shape(Coordinates))\n",
    "    c1 = Multiply()([y1, Coordinates])\n",
    "    c = Add()([y2, c1])\n",
    "    m = Model(inputs = [Note, Coordinates], outputs = c)\n",
    "\n",
    "    print (m.summary())\n",
    "    m.compile(loss='mean_squared_error', optimizer='adam')\n",
    "\n",
    "    return m\n",
    "\n",
    "def create_sample_attention_model () :\n",
    "    model = Sequential()\n",
    "    model.add(LSTM(150, input_shape=(n_timesteps_in, n_features), return_sequences=True))\n",
    "    model.add(attention_decoder.AttentionDecoder(150, n_features))\n",
    "    model.compile(loss='categorical_crossentropy', optimizer='adam', metrics=['acc'])\n",
    "    \n",
    "    return model"
   ]
  },
  {
   "cell_type": "code",
   "execution_count": null,
   "metadata": {
    "collapsed": true
   },
   "outputs": [],
   "source": []
  }
 ],
 "metadata": {
  "kernelspec": {
   "display_name": "Python 3",
   "language": "python",
   "name": "python3"
  },
  "language_info": {
   "codemirror_mode": {
    "name": "ipython",
    "version": 3
   },
   "file_extension": ".py",
   "mimetype": "text/x-python",
   "name": "python",
   "nbconvert_exporter": "python",
   "pygments_lexer": "ipython3",
   "version": "3.5.4"
  }
 },
 "nbformat": 4,
 "nbformat_minor": 2
}
