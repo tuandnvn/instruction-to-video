{
 "cells": [
  {
   "cell_type": "markdown",
   "metadata": {},
   "source": [
    "### Image size \n",
    "\n",
    "(288, 432, 3)"
   ]
  },
  {
   "cell_type": "code",
   "execution_count": 10,
   "metadata": {
    "collapsed": true
   },
   "outputs": [],
   "source": [
    "cap = cv2.VideoCapture(os.path.join('..', 'target', '0', '0.mp4'))"
   ]
  },
  {
   "cell_type": "code",
   "execution_count": 16,
   "metadata": {
    "collapsed": true
   },
   "outputs": [],
   "source": [
    "def crop_and_resize (frame):\n",
    "    \n",
    "    # cv2.resize(frame, (10, 10), interpolation = cv2.INTER_AREA)\n",
    "#     return frame[36:250, 114:328, :]\n",
    "    return cv2.resize(frame[36:250, 114:328, :], (15, 15), interpolation = cv2.INTER_LINEAR)"
   ]
  },
  {
   "cell_type": "code",
   "execution_count": 156,
   "metadata": {
    "collapsed": true
   },
   "outputs": [],
   "source": [
    "data = []\n",
    "\n",
    "counter = 0\n",
    "while (cap.isOpened()):\n",
    "    ret, frame = cap.read()\n",
    "\n",
    "    if not ret:\n",
    "        break\n",
    "        \n",
    "    data.append(crop_and_resize(frame))\n",
    "    \n",
    "    counter += 1"
   ]
  },
  {
   "cell_type": "code",
   "execution_count": 157,
   "metadata": {},
   "outputs": [
    {
     "ename": "IndexError",
     "evalue": "list index out of range",
     "output_type": "error",
     "traceback": [
      "\u001b[1;31m---------------------------------------------------------------\u001b[0m",
      "\u001b[1;31mIndexError\u001b[0m                    Traceback (most recent call last)",
      "\u001b[1;32m<ipython-input-157-e3ca9b474a6f>\u001b[0m in \u001b[0;36m<module>\u001b[1;34m()\u001b[0m\n\u001b[1;32m----> 1\u001b[1;33m \u001b[0mpl\u001b[0m\u001b[1;33m.\u001b[0m\u001b[0mimshow\u001b[0m\u001b[1;33m(\u001b[0m\u001b[0mdata\u001b[0m\u001b[1;33m[\u001b[0m\u001b[1;36m18\u001b[0m\u001b[1;33m]\u001b[0m\u001b[1;33m)\u001b[0m\u001b[1;33m\u001b[0m\u001b[0m\n\u001b[0m",
      "\u001b[1;31mIndexError\u001b[0m: list index out of range"
     ]
    }
   ],
   "source": [
    "pl.imshow(data[18])"
   ]
  },
  {
   "cell_type": "markdown",
   "metadata": {},
   "source": [
    "### Get instruction signal\n",
    "\n",
    "Parse the video file into instruction sequence"
   ]
  },
  {
   "cell_type": "code",
   "execution_count": 11,
   "metadata": {
    "collapsed": true
   },
   "outputs": [],
   "source": [
    "instruction_dict = {'up': 0, 'right': 1, 'down': 2, 'left': 3}"
   ]
  },
  {
   "cell_type": "code",
   "execution_count": 12,
   "metadata": {
    "collapsed": true
   },
   "outputs": [],
   "source": [
    "reverse_instruction_dict = dict((v,k) for (k,v) in instruction_dict.items())"
   ]
  },
  {
   "cell_type": "code",
   "execution_count": 110,
   "metadata": {
    "collapsed": true
   },
   "outputs": [],
   "source": [
    "def decode ( sequence ):\n",
    "    return [reverse_instruction_dict[s] for s in sequence]"
   ]
  },
  {
   "cell_type": "code",
   "execution_count": 111,
   "metadata": {
    "collapsed": true
   },
   "outputs": [],
   "source": [
    "def get_instruction_btw_frame( prev_frame, cur_frame ):\n",
    "    diff = abs(prev_frame.astype(np.int32) - cur_frame.astype(np.int32))\n",
    "    vals = np.argwhere(diff >= 20)\n",
    "    \n",
    "    points = set()\n",
    "    for val in vals:\n",
    "        points.add(tuple(val[:2]))\n",
    "    \n",
    "    # if prev_frame[points[0]] ~ (255,255,255), points[0] is target, points[1] is start\n",
    "    # otherwise reverse\n",
    "    \n",
    "    points = list(points)\n",
    "    \n",
    "    if np.sum(abs(prev_frame[points[0]].astype(np.int32) - np.array([255, 255, 255]))) > 20:\n",
    "        source = np.array(points[0])\n",
    "        target = np.array(points[1])\n",
    "    else:\n",
    "        source = np.array(points[1])\n",
    "        target = np.array(points[0])\n",
    "\n",
    "        \n",
    "    if np.array_equal(target - source , [0, 1]):\n",
    "        return 1\n",
    "    if np.array_equal(target - source , [0, -1]):\n",
    "        return 3\n",
    "    if np.array_equal(target - source , [1, 0]):\n",
    "        return 2\n",
    "    if np.array_equal(target - source , [-1, 0]):\n",
    "        return 0\n",
    "        \n",
    "\n",
    "def get_instructions ( video_path, debug = True ):\n",
    "    cap = cv2.VideoCapture(video_path)\n",
    "    \n",
    "    prev_frame = None\n",
    "    instructions = []\n",
    "\n",
    "    counter = 0\n",
    "    while (cap.isOpened()):\n",
    "        ret, frame = cap.read()\n",
    "\n",
    "        if not ret:\n",
    "            break\n",
    "            \n",
    "        c_frame = crop_and_resize(frame)\n",
    "        \n",
    "        # Get the instruction between prev_frame and frame\n",
    "        if prev_frame is not None:\n",
    "            instruction = get_instruction_btw_frame (prev_frame, c_frame)\n",
    "            instructions.append(instruction)\n",
    "\n",
    "        counter += 1\n",
    "\n",
    "        prev_frame = c_frame\n",
    "        \n",
    "    #pl.imshow(prev_frame)\n",
    "    \n",
    "    if debug :\n",
    "        print ('There are %d frames ' % counter)\n",
    "        print ('The list of instructions are %s ' % decode( instructions ))\n",
    "    \n",
    "    return decode( instructions )"
   ]
  },
  {
   "cell_type": "code",
   "execution_count": 18,
   "metadata": {},
   "outputs": [
    {
     "name": "stdout",
     "output_type": "stream",
     "text": [
      "There are 19 frames \n",
      "The list of instructions are down,down,down,down,down,down,left,left,down,down,left,left,left,left,left,left,down,left \n"
     ]
    },
    {
     "data": {
      "text/plain": [
       "[2, 2, 2, 2, 2, 2, 3, 3, 2, 2, 3, 3, 3, 3, 3, 3, 2, 3]"
      ]
     },
     "execution_count": 18,
     "metadata": {},
     "output_type": "execute_result"
    }
   ],
   "source": [
    "get_instructions(os.path.join('..', 'target', '0', '0.mp4'))"
   ]
  },
  {
   "cell_type": "markdown",
   "metadata": {},
   "source": [
    "### Baseline model\n",
    "\n",
    "LSTM model with attention with the image being additional input to encoded vector.\n",
    "\n",
    "The simplest model would have image flattened out into an 100-cell vectors. Colors are coded."
   ]
  },
  {
   "cell_type": "markdown",
   "metadata": {},
   "source": [
    "### Generate instructions and commands text files and vocab files"
   ]
  },
  {
   "cell_type": "code",
   "execution_count": 19,
   "metadata": {
    "collapsed": true
   },
   "outputs": [],
   "source": [
    "src_file = 'instructions.txt'\n",
    "tgt_file = 'commands.txt'\n",
    "src_vocab_file = 'instructions.vocab'\n",
    "tgt_vocab_file = 'commands.vocab'"
   ]
  },
  {
   "cell_type": "code",
   "execution_count": null,
   "metadata": {
    "collapsed": true
   },
   "outputs": [],
   "source": [
    "\"\"\"\n",
    "Sample text\n",
    "Alexander Reese,100,move the purple block between the yellow block and elastic red block stop in the creak of the purple L-shape block\n",
    "\"\"\""
   ]
  },
  {
   "cell_type": "code",
   "execution_count": 29,
   "metadata": {},
   "outputs": [],
   "source": [
    "from collections import defaultdict\n",
    "\n",
    "puzzle_to_instructions = defaultdict(list)\n",
    "\n",
    "with open(os.path.join('..', 'annotation.csv'), 'r') as fh:\n",
    "    for line in fh:\n",
    "        parts = line.split(',')\n",
    "        \n",
    "        puzzle = int(parts[1])\n",
    "        text = ' '.join( parts[2:] )\n",
    "        \n",
    "        text = text.replace ('-', ' ').strip()\n",
    "        \n",
    "        if text != '':\n",
    "            puzzle_to_instructions[puzzle].append(text)"
   ]
  },
  {
   "cell_type": "code",
   "execution_count": 35,
   "metadata": {},
   "outputs": [],
   "source": [
    "import pickle\n",
    "\n",
    "with open('puzzle.dat', 'wb') as fh:\n",
    "    pickle.dump(puzzle_to_instructions, fh)"
   ]
  },
  {
   "cell_type": "code",
   "execution_count": 153,
   "metadata": {},
   "outputs": [],
   "source": [
    "with open(os.path.join('..', 'data', src_file), 'w') as fh:\n",
    "    with open(os.path.join('..', 'data', tgt_file), 'w') as fh2:\n",
    "        \n",
    "        for puzzle in range(200):\n",
    "            instructions = puzzle_to_instructions[puzzle]\n",
    "            \n",
    "            directory = puzzle // 100\n",
    "            \n",
    "            commands = get_instructions(os.path.join('..', 'target', str(directory), str(puzzle) + '.mp4'), debug = False)\n",
    "            \n",
    "            for instruction in instructions[:-1]:\n",
    "                fh.write(instruction.lower())\n",
    "                fh.write('\\n')\n",
    "                fh2.write(' '.join(commands))\n",
    "                fh2.write('\\n')"
   ]
  },
  {
   "cell_type": "markdown",
   "metadata": {},
   "source": [
    "### Create vocabulary files"
   ]
  },
  {
   "cell_type": "code",
   "execution_count": 43,
   "metadata": {},
   "outputs": [
    {
     "name": "stdout",
     "output_type": "stream",
     "text": [
      "curses is not supported on this machine (please install/reinstall curses for an optimal experience)\n"
     ]
    }
   ],
   "source": [
    "import tflearn"
   ]
  },
  {
   "cell_type": "code",
   "execution_count": 44,
   "metadata": {
    "collapsed": true
   },
   "outputs": [],
   "source": [
    "from tflearn.data_utils import VocabularyProcessor"
   ]
  },
  {
   "cell_type": "code",
   "execution_count": 52,
   "metadata": {},
   "outputs": [],
   "source": [
    "vp = VocabularyProcessor(min_frequency=10, max_document_length = 100)\n",
    "\n",
    "vp.fit(t for t in puzzle_to_instructions[puzzle] for puzzle in range(200)) \n",
    "\n",
    "t = vp.vocabulary_\n",
    "\n",
    "with open(os.path.join('..', 'data', src_vocab_file), 'w') as fh:\n",
    "    for word in t._reverse_mapping:\n",
    "        fh.write(word)\n",
    "        fh.write('\\n')"
   ]
  },
  {
   "cell_type": "markdown",
   "metadata": {},
   "source": [
    "### Create eval files"
   ]
  },
  {
   "cell_type": "code",
   "execution_count": 54,
   "metadata": {
    "collapsed": true
   },
   "outputs": [],
   "source": [
    "eval_src_file = 'eval_instructions.txt'\n",
    "eval_tgt_file = 'eval_commands.txt'\n",
    "\n",
    "with open(os.path.join('..', 'data', eval_src_file), 'w') as fh:\n",
    "    with open(os.path.join('..', 'data', eval_tgt_file), 'w') as fh2:\n",
    "        \n",
    "        for puzzle in range(200):\n",
    "            instructions = puzzle_to_instructions[puzzle]\n",
    "            \n",
    "            directory = puzzle // 100\n",
    "            \n",
    "            commands = get_instructions(os.path.join('..', 'target', str(directory), str(puzzle) + '.mp4'), debug = False)\n",
    "            \n",
    "            instruction = instructions[-1]\n",
    "            fh.write(instruction.lower())\n",
    "            fh.write('\\n')\n",
    "            fh2.write(commands)\n",
    "            fh2.write('\\n')"
   ]
  },
  {
   "cell_type": "markdown",
   "metadata": {},
   "source": [
    "### Result from one run with\n",
    "\n",
    "```\n",
    "Simple Model\n",
    "num_units=128,\n",
    "optimizer=\"sgd\",\n",
    "learning_rate=0.2,\n",
    "num_train_steps=2000,\n",
    "```"
   ]
  },
  {
   "cell_type": "code",
   "execution_count": 55,
   "metadata": {
    "collapsed": true
   },
   "outputs": [],
   "source": [
    "train_ppls = [(50, 3.622860993755861), (100, 2.861048874787788), (150, 2.7144358871103695), (200, 2.6244221451141554), (250, 2.559963936057708), (300, 2.4906299530576717), (350, 2.4611581223296883), (400, 2.4081972736561292), (450, 2.376238414347918), (500, 2.3149748093621305), (550, 2.2807155686298373), (600, 2.2271950330723733), (650, 2.1852261228233196), (700, 2.133554434277888), (750, 2.0864403448274174), (800, 2.0275573143614056), (850, 1.966460910555963), (900, 1.9100762230672461), (950, 1.8597766285396615), (1000, 1.8106065211986038), (1050, 1.7577774811347908), (1100, 1.7159142948821353), (1150, 1.6667710320040563), (1200, 1.6176787509841954), (1250, 1.461931473293547), (1300, 1.4199632900484251), (1350, 1.395266490093124), (1400, 1.3680164569824662), (1450, 1.3074188319379587), (1500, 1.289243310363728), (1550, 1.2762814642136484), (1600, 1.2600097457796327), (1650, 1.242998112668705), (1700, 1.2327585428902734), (1750, 1.222338292542516), (1800, 1.2157578290950826), (1850, 1.2029619735575519), (1900, 1.1996501731730116), (1950, 1.1976915749849835), (2000, 1.196468185521777)]\n",
    "dev_ppls = [(200, 2.57433564083528), (400, 2.456461232812054), (600, 2.2005683089711163), (800, 2.0124692521350296), (1000, 1.814219438942708), (1200, 1.723100523239358), (1400, 1.6296202548584209), (1600, 1.6325943888569625), (1800, 1.6608891188844597), (2000, 1.673063526619738)]"
   ]
  },
  {
   "cell_type": "code",
   "execution_count": 56,
   "metadata": {
    "collapsed": true
   },
   "outputs": [],
   "source": [
    "%matplotlib inline"
   ]
  },
  {
   "cell_type": "code",
   "execution_count": 57,
   "metadata": {
    "collapsed": true
   },
   "outputs": [],
   "source": [
    "import matplotlib.pyplot as plt "
   ]
  },
  {
   "cell_type": "code",
   "execution_count": 58,
   "metadata": {},
   "outputs": [
    {
     "data": {
      "text/plain": [
       "[<matplotlib.lines.Line2D at 0x20285bc6780>]"
      ]
     },
     "execution_count": 58,
     "metadata": {},
     "output_type": "execute_result"
    },
    {
     "data": {
      "image/png": "[encoded data removed]",
      "text/plain": [
       "<matplotlib.figure.Figure at 0x20285bc6630>"
      ]
     },
     "metadata": {},
     "output_type": "display_data"
    }
   ],
   "source": [
    "plt.plot([t[0] for t in train_ppls], [t[1] for t in train_ppls])\n",
    "plt.plot([t[0] for t in dev_ppls], [t[1] for t in dev_ppls])"
   ]
  },
  {
   "cell_type": "code",
   "execution_count": 80,
   "metadata": {},
   "outputs": [
    {
     "data": {
      "image/png": "[encoded data removed]",
      "text/plain": [
       "<matplotlib.figure.Figure at 0x202874cee48>"
      ]
     },
     "metadata": {},
     "output_type": "display_data"
    }
   ],
   "source": [
    "cap = cv2.VideoCapture(os.path.join('..', 'target', '0', '0.mp4'))\n",
    "\n",
    "fig=plt.figure(figsize=(14, 3.5))\n",
    "\n",
    "counter = 1\n",
    "\n",
    "row = 2\n",
    "col = 9\n",
    "while (cap.isOpened()):\n",
    "    ret, frame = cap.read()\n",
    "    \n",
    "    img = crop_and_resize(frame)\n",
    "    \n",
    "    a = fig.add_subplot(row, col, counter)\n",
    "    \n",
    "    a.get_xaxis().set_visible(False)\n",
    "    a.axes.get_yaxis().set_visible(False)\n",
    "    plt.imshow(img)\n",
    "    \n",
    "    counter += 1\n",
    "    \n",
    "    if counter > row * col:\n",
    "        break\n",
    "    \n",
    "fig.tight_layout()\n",
    "plt.show()"
   ]
  },
  {
   "cell_type": "code",
   "execution_count": 112,
   "metadata": {},
   "outputs": [
    {
     "name": "stdout",
     "output_type": "stream",
     "text": [
      "There are 19 frames \n",
      "The list of instructions are ['down', 'down', 'down', 'down', 'down', 'down', 'left', 'left', 'down', 'down', 'left', 'left', 'left', 'left', 'left', 'left', 'down', 'left'] \n"
     ]
    },
    {
     "data": {
      "text/plain": [
       "['down',\n",
       " 'down',\n",
       " 'down',\n",
       " 'down',\n",
       " 'down',\n",
       " 'down',\n",
       " 'left',\n",
       " 'left',\n",
       " 'down',\n",
       " 'down',\n",
       " 'left',\n",
       " 'left',\n",
       " 'left',\n",
       " 'left',\n",
       " 'left',\n",
       " 'left',\n",
       " 'down',\n",
       " 'left']"
      ]
     },
     "execution_count": 112,
     "metadata": {},
     "output_type": "execute_result"
    }
   ],
   "source": [
    "get_instructions ( os.path.join('..', 'target', '0', '0.mp4') )"
   ]
  },
  {
   "cell_type": "markdown",
   "metadata": {},
   "source": [
    "### A function that input a video and a sequence of actions, produce the correct sequence of actions"
   ]
  },
  {
   "cell_type": "code",
   "execution_count": 118,
   "metadata": {},
   "outputs": [],
   "source": [
    "def get_source_from_2_frames( prev_frame, cur_frame ):\n",
    "    diff = abs(prev_frame.astype(np.int32) - cur_frame.astype(np.int32))\n",
    "    vals = np.argwhere(diff >= 20)\n",
    "    \n",
    "    points = set()\n",
    "    for val in vals:\n",
    "        points.add(tuple(val[:2]))\n",
    "    \n",
    "    # if prev_frame[points[0]] ~ (255,255,255), points[0] is target, points[1] is start\n",
    "    # otherwise reverse\n",
    "    \n",
    "    points = list(points)\n",
    "    \n",
    "    if np.sum(abs(prev_frame[points[0]].astype(np.int32) - np.array([255, 255, 255]))) > 20:\n",
    "        source = np.array(points[0])\n",
    "    else:\n",
    "        source = np.array(points[1])\n",
    "        \n",
    "    return source\n",
    "\n",
    "def move ( loc, action ):\n",
    "    if action == 'left':\n",
    "        return (loc[0], loc[1] - 1)\n",
    "    if action == 'right':\n",
    "        return (loc[0], loc[1] + 1)\n",
    "    if action == 'up':\n",
    "        return (loc[0] - 1, loc[1])\n",
    "    if action == 'down':\n",
    "        return (loc[0] + 1, loc[1])\n",
    "    \n",
    "def reverse_action ( action ):\n",
    "    if action == 'left':\n",
    "        return 'right'\n",
    "    if action == 'right':\n",
    "        return 'left'\n",
    "    if action == 'up':\n",
    "        return 'down'\n",
    "    if action == 'down':\n",
    "        return 'up'\n",
    "        \n",
    "def reenact( video_file, actions ):\n",
    "    \"\"\"\n",
    "    Reading the first frame of video_file, \n",
    "    perform actions on the purple blocks, and regenerate the correct list of actions\n",
    "    \"\"\"\n",
    "    cap = cv2.VideoCapture(video_file)\n",
    "    \n",
    "    # First 2 frames\n",
    "    _, first_frame = cap.read()\n",
    "    first_frame = crop_and_resize ( first_frame )\n",
    "    _, second_frame = cap.read()\n",
    "    second_frame = crop_and_resize ( second_frame )\n",
    "    \n",
    "    source = get_source_from_2_frames ( first_frame, second_frame )\n",
    "    \n",
    "    # Clear first_frame[tuple(source)]\n",
    "    first_frame[tuple(source)] = [255, 255, 255]\n",
    "    \n",
    "    loc = source\n",
    "    \n",
    "    new_actions = []\n",
    "    for action in actions:\n",
    "        new_loc = move (loc, action)\n",
    "        \n",
    "        # Check if new_loc is legal move\n",
    "        if 0 <= new_loc[0] <  first_frame.shape[0] and 0 <= new_loc[1] <  first_frame.shape[1]:\n",
    "            # Check if new_loc is not occupied\n",
    "            if np.sum(abs(first_frame[tuple(new_loc)].astype(np.int32) - np.array([255, 255, 255]))) > 20:\n",
    "                # Not empty\n",
    "                pass\n",
    "            else:\n",
    "                loc = new_loc\n",
    "                new_actions.append(action)\n",
    "    \n",
    "    return new_actions"
   ]
  },
  {
   "cell_type": "code",
   "execution_count": 108,
   "metadata": {},
   "outputs": [
    {
     "name": "stdout",
     "output_type": "stream",
     "text": [
      "[123   0 124]\n"
     ]
    },
    {
     "data": {
      "text/plain": [
       "['right', 'down', 'down', 'left']"
      ]
     },
     "execution_count": 108,
     "metadata": {},
     "output_type": "execute_result"
    },
    {
     "data": {
      "image/png": "[encoded data removed]",
      "text/plain": [
       "<matplotlib.figure.Figure at 0x2028722e2b0>"
      ]
     },
     "metadata": {},
     "output_type": "display_data"
    }
   ],
   "source": [
    "reenact ( os.path.join('..', 'target', '0', '0.mp4') , ['right', 'right', 'right', 'down', 'down', 'left', 'left', 'left', 'left'] )"
   ]
  },
  {
   "cell_type": "code",
   "execution_count": 134,
   "metadata": {
    "collapsed": true
   },
   "outputs": [],
   "source": [
    "refs = ['down', 'down', 'down', 'down', 'down', 'down', 'left', 'left', 'down', 'down', 'left', 'left', 'left', 'left', 'left', 'left', 'down', 'left']\n",
    "preds = ['right', 'right', 'right', 'down', 'down', 'left', 'left', 'down', 'down', 'down', 'down', 'down', 'down']\n",
    "\n",
    "def neighbor_score ( chain1, chain2):\n",
    "    \"\"\"\n",
    "    Calculating neighboring scores from chain1 to chain2\n",
    "    This code could be implemented with 4 heaps, but only efficient if the length of chain1, chain2 are large enough\n",
    "    One heap for only positive pairs\n",
    "    One heap for only negative pairs\n",
    "    One heap for (positive, negative)\n",
    "    One heap for (negative, positive)\n",
    "    One remaining list for pair that has one value == 0 (that could change to one of the aforementioned heaps)\n",
    "    \n",
    "    However here we just do a very simple loop in this code\n",
    "    \"\"\"\n",
    "    values = [(0,0)]\n",
    "    for action in chain1:\n",
    "        values.append ( move (values[-1], action) )\n",
    "    \n",
    "    shortest_vals = []\n",
    "    for action in chain2:\n",
    "        r_action = reverse_action ( action )\n",
    "        \n",
    "        values = [ move(value, r_action) for value in values]\n",
    "        shortest_val = np.min( [abs(value[0]) + abs(value[1]) for value in values] )\n",
    "        shortest_vals.append(shortest_val)\n",
    "        \n",
    "    return shortest_vals\n",
    "    \n",
    "    \n",
    "def shortest_neighbor_score ( refs,  preds, video_file ):\n",
    "    correct_preds = reenact( video_file, preds )\n",
    "    \n",
    "    score_1 = neighbor_score( refs , correct_preds )\n",
    "    score_2 = neighbor_score( correct_preds, refs)\n",
    "    \n",
    "    total_val = sum(score_1) + sum(score_2)\n",
    "    total_count = ( 1 # First cell\n",
    "                + np.count_nonzero(score_1)\n",
    "                + len(score_2) ) # score_1 and score_2 share cells that has value == 0\n",
    "    return total_val / total_count\n",
    "    "
   ]
  },
  {
   "cell_type": "code",
   "execution_count": 121,
   "metadata": {},
   "outputs": [],
   "source": [
    "correct_preds = reenact( os.path.join('..', 'target', '0', '0.mp4'), preds )"
   ]
  },
  {
   "cell_type": "code",
   "execution_count": 122,
   "metadata": {},
   "outputs": [
    {
     "data": {
      "text/plain": [
       "['right',\n",
       " 'down',\n",
       " 'down',\n",
       " 'left',\n",
       " 'down',\n",
       " 'down',\n",
       " 'down',\n",
       " 'down',\n",
       " 'down',\n",
       " 'down']"
      ]
     },
     "execution_count": 122,
     "metadata": {},
     "output_type": "execute_result"
    }
   ],
   "source": [
    "correct_preds"
   ]
  },
  {
   "cell_type": "code",
   "execution_count": 127,
   "metadata": {},
   "outputs": [],
   "source": [
    "score_1 = neighbor_score ( refs, correct_preds )"
   ]
  },
  {
   "cell_type": "code",
   "execution_count": 128,
   "metadata": {},
   "outputs": [],
   "source": [
    "score_2 = neighbor_score ( correct_preds, refs )"
   ]
  },
  {
   "cell_type": "code",
   "execution_count": 132,
   "metadata": {},
   "outputs": [
    {
     "data": {
      "text/plain": [
       "5"
      ]
     },
     "execution_count": 132,
     "metadata": {},
     "output_type": "execute_result"
    }
   ],
   "source": [
    "np.count_nonzero(score_1)"
   ]
  },
  {
   "cell_type": "code",
   "execution_count": 133,
   "metadata": {},
   "outputs": [
    {
     "data": {
      "text/plain": [
       "13"
      ]
     },
     "execution_count": 133,
     "metadata": {},
     "output_type": "execute_result"
    }
   ],
   "source": [
    "np.count_nonzero(score_2)"
   ]
  },
  {
   "cell_type": "code",
   "execution_count": 136,
   "metadata": {},
   "outputs": [
    {
     "name": "stdout",
     "output_type": "stream",
     "text": [
      "2.75\n"
     ]
    }
   ],
   "source": [
    "print (shortest_neighbor_score(refs, preds, os.path.join('..', 'target', '0', '0.mp4')))"
   ]
  },
  {
   "cell_type": "code",
   "execution_count": 137,
   "metadata": {
    "collapsed": true
   },
   "outputs": [],
   "source": [
    "total_val = sum(score_1) + sum(score_2)\n",
    "total_count = ( 1 # First cell\n",
    "            + np.count_nonzero(score_1)\n",
    "            + len(score_2) ) # score_1 and score_2 share cells that has value == 0"
   ]
  },
  {
   "cell_type": "code",
   "execution_count": 138,
   "metadata": {},
   "outputs": [
    {
     "data": {
      "text/plain": [
       "66"
      ]
     },
     "execution_count": 138,
     "metadata": {},
     "output_type": "execute_result"
    }
   ],
   "source": [
    "total_val"
   ]
  },
  {
   "cell_type": "code",
   "execution_count": 139,
   "metadata": {},
   "outputs": [
    {
     "data": {
      "text/plain": [
       "24"
      ]
     },
     "execution_count": 139,
     "metadata": {},
     "output_type": "execute_result"
    }
   ],
   "source": [
    "total_count"
   ]
  },
  {
   "cell_type": "code",
   "execution_count": 140,
   "metadata": {},
   "outputs": [
    {
     "data": {
      "text/plain": [
       "[1, 1, 1, 0, 0, 0, 0, 0, 1, 2]"
      ]
     },
     "execution_count": 140,
     "metadata": {},
     "output_type": "execute_result"
    }
   ],
   "source": [
    "score_1"
   ]
  },
  {
   "cell_type": "code",
   "execution_count": 141,
   "metadata": {},
   "outputs": [
    {
     "data": {
      "text/plain": [
       "[1, 0, 0, 0, 0, 0, 1, 2, 2, 2, 3, 4, 5, 6, 7, 8, 9, 10]"
      ]
     },
     "execution_count": 141,
     "metadata": {},
     "output_type": "execute_result"
    }
   ],
   "source": [
    "score_2"
   ]
  },
  {
   "cell_type": "code",
   "execution_count": 146,
   "metadata": {
    "collapsed": true
   },
   "outputs": [],
   "source": [
    "def video_to_features (video_path):\n",
    "    \"\"\"\n",
    "    Load a video file, rastering it into a sequence of feature vectors\n",
    "    There might be different way to extracting features from each frame\n",
    "    The easiest approach might be to ignore the color from the video, and just\n",
    "    return an array of size 1\n",
    "    \"\"\"\n",
    "    cap = cv2.VideoCapture(video_path)\n",
    "\n",
    "    counter = 0\n",
    "    \n",
    "    frames = []\n",
    "    \n",
    "    while (cap.isOpened()):\n",
    "        ret, frame = cap.read()\n",
    "\n",
    "        if not ret:\n",
    "            break\n",
    "            \n",
    "        small_frame = crop_and_resize ( frame )\n",
    "        \n",
    "        small_frame = np.sum ( small_frame, axis = 2 )\n",
    "        \n",
    "        t = (small_frame < ( 255+255+250-20 ) ) .astype(int)\n",
    "        \n",
    "        frames.append(t.flatten())\n",
    "        \n",
    "    return np.stack(frames)"
   ]
  },
  {
   "cell_type": "code",
   "execution_count": 147,
   "metadata": {
    "collapsed": true
   },
   "outputs": [],
   "source": [
    "q = video_to_features( os.path.join('..', 'target', '0', '0.mp4') )"
   ]
  },
  {
   "cell_type": "code",
   "execution_count": 148,
   "metadata": {},
   "outputs": [
    {
     "data": {
      "text/plain": [
       "array([0, 0, 0, 0, 0, 0, 0, 0, 0, 0, 0, 0, 0, 0, 0, 0, 0, 0, 0, 0, 0, 0, 0,\n",
       "       1, 1, 1, 0, 0, 0, 0, 0, 0, 0, 0, 1, 1, 0, 0, 1, 1, 1, 0, 0, 0, 0, 0,\n",
       "       0, 0, 0, 1, 1, 0, 0, 0, 0, 0, 0, 0, 1, 0, 0, 0, 0, 0, 0, 0, 0, 0, 0,\n",
       "       0, 0, 0, 0, 0, 0, 0, 1, 1, 0, 0, 0, 0, 0, 0, 0, 0, 1, 1, 0, 0, 0, 1,\n",
       "       1, 0, 0, 0, 0, 0, 0, 0, 0, 0, 1, 0, 0, 0, 0, 0, 0, 0, 0, 0, 0, 0, 0,\n",
       "       0, 0, 0, 0, 0, 0, 0, 0, 0, 0, 0, 0, 0, 1, 1, 1, 0, 0, 0, 0, 0, 0, 1,\n",
       "       1, 0, 0, 0, 0, 0, 0, 1, 0, 0, 0, 0, 0, 0, 1, 0, 0, 0, 0, 0, 0, 0, 1,\n",
       "       0, 0, 0, 0, 0, 0, 0, 0, 0, 0, 0, 0, 0, 0, 0, 0, 0, 0, 0, 0, 0, 0, 0,\n",
       "       0, 0, 1, 1, 1, 0, 0, 0, 1, 0, 0, 0, 0, 0, 0, 0, 0, 0, 0, 1, 0, 0, 0,\n",
       "       1, 1, 0, 0, 0, 0, 0, 0, 0, 0, 0, 1, 0, 0, 0, 0, 0, 0])"
      ]
     },
     "execution_count": 148,
     "metadata": {},
     "output_type": "execute_result"
    }
   ],
   "source": [
    "q[0]"
   ]
  },
  {
   "cell_type": "markdown",
   "metadata": {},
   "source": [
    "### Add test instructions and commands"
   ]
  },
  {
   "cell_type": "code",
   "execution_count": 151,
   "metadata": {},
   "outputs": [],
   "source": [
    "test_src_file = 'test_instructions.txt'\n",
    "test_tgt_file = 'test_commands.txt'\n",
    "\n",
    "instructions = []\n",
    "with open(os.path.join('..', 'data', test_src_file), 'r') as fh:\n",
    "    for line in fh:\n",
    "        instructions.append(line.lower().strip())\n",
    "        \n",
    "with open(os.path.join('..', 'data', test_src_file), 'w') as fh:\n",
    "    for instruction in instructions:\n",
    "        fh.write(instruction)\n",
    "        fh.write('\\n')\n",
    "\n",
    "with open(os.path.join('..', 'data', test_tgt_file), 'w') as fh:\n",
    "    for puzzle in range(200, 300):\n",
    "        instructions = puzzle_to_instructions[puzzle]\n",
    "\n",
    "        directory = puzzle // 100\n",
    "\n",
    "        commands = get_instructions(os.path.join('..', 'target', str(directory), str(puzzle) + '.mp4'), debug = False)\n",
    "\n",
    "        fh.write(' '.join(commands))\n",
    "        fh.write('\\n')"
   ]
  },
  {
   "cell_type": "code",
   "execution_count": null,
   "metadata": {
    "collapsed": true
   },
   "outputs": [],
   "source": []
  }
 ],
 "metadata": {
  "kernelspec": {
   "display_name": "Python 3",
   "language": "python",
   "name": "python3"
  },
  "language_info": {
   "codemirror_mode": {
    "name": "ipython",
    "version": 3
   },
   "file_extension": ".py",
   "mimetype": "text/x-python",
   "name": "python",
   "nbconvert_exporter": "python",
   "pygments_lexer": "ipython3",
   "version": "3.5.4"
  }
 },
 "nbformat": 4,
 "nbformat_minor": 2
}
